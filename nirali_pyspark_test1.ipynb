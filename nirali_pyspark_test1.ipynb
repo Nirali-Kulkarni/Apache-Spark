{
 "cells": [
  {
   "cell_type": "code",
   "execution_count": 2,
   "id": "5b29481a",
   "metadata": {
    "scrolled": true
   },
   "outputs": [
    {
     "name": "stdout",
     "output_type": "stream",
     "text": [
      "Requirement already satisfied: pyspark in c:\\users\\niral\\anaconda3\\lib\\site-packages (3.3.2)Note: you may need to restart the kernel to use updated packages.\n",
      "Requirement already satisfied: py4j==0.10.9.5 in c:\\users\\niral\\anaconda3\\lib\\site-packages (from pyspark) (0.10.9.5)\n",
      "\n"
     ]
    }
   ],
   "source": [
    "# Basics commands of Pyspark\n",
    "#Installing pyspark library\n",
    "pip install pyspark"
   ]
  },
  {
   "cell_type": "code",
   "execution_count": 3,
   "id": "7bcecba4",
   "metadata": {},
   "outputs": [],
   "source": [
    "#Importing pyspark module\n",
    "import pyspark"
   ]
  },
  {
   "cell_type": "code",
   "execution_count": 11,
   "id": "67849a70",
   "metadata": {},
   "outputs": [],
   "source": [
    "#Importing SparkSession which is a higher-level API for interacting with Spark and \n",
    "# represents the entry point for using Spark functionalities\n",
    "from pyspark.sql import SparkSession"
   ]
  },
  {
   "cell_type": "code",
   "execution_count": 12,
   "id": "ba6e0331",
   "metadata": {},
   "outputs": [],
   "source": [
    "#Building an application\n",
    "spark=SparkSession.builder.appName('nirali').getOrCreate()"
   ]
  },
  {
   "cell_type": "code",
   "execution_count": 13,
   "id": "a2ef4597",
   "metadata": {},
   "outputs": [
    {
     "data": {
      "text/html": [
       "\n",
       "            <div>\n",
       "                <p><b>SparkSession - in-memory</b></p>\n",
       "                \n",
       "        <div>\n",
       "            <p><b>SparkContext</b></p>\n",
       "\n",
       "            <p><a href=\"http://10.0.0.19:4040\">Spark UI</a></p>\n",
       "\n",
       "            <dl>\n",
       "              <dt>Version</dt>\n",
       "                <dd><code>v3.3.2</code></dd>\n",
       "              <dt>Master</dt>\n",
       "                <dd><code>local[*]</code></dd>\n",
       "              <dt>AppName</dt>\n",
       "                <dd><code>nirali</code></dd>\n",
       "            </dl>\n",
       "        </div>\n",
       "        \n",
       "            </div>\n",
       "        "
      ],
      "text/plain": [
       "<pyspark.sql.session.SparkSession at 0x1b73d6c8340>"
      ]
     },
     "execution_count": 13,
     "metadata": {},
     "output_type": "execute_result"
    }
   ],
   "source": [
    "spark"
   ]
  },
  {
   "cell_type": "code",
   "execution_count": 44,
   "id": "a94d76f1",
   "metadata": {},
   "outputs": [],
   "source": [
    "# This will create the spark df\n",
    "spark_df=spark.read.csv('nirali_pyspark_test1.csv')"
   ]
  },
  {
   "cell_type": "code",
   "execution_count": 43,
   "id": "8e75afa2",
   "metadata": {},
   "outputs": [
    {
     "name": "stdout",
     "output_type": "stream",
     "text": [
      "+--------+---+\n",
      "|     _c0|_c1|\n",
      "+--------+---+\n",
      "|    name|age|\n",
      "|  nirali| 25|\n",
      "|fernando| 19|\n",
      "| shovon | 30|\n",
      "| gautam | 23|\n",
      "|  akshat| 23|\n",
      "+--------+---+\n",
      "\n"
     ]
    }
   ],
   "source": [
    "spark_df.show()"
   ]
  },
  {
   "cell_type": "code",
   "execution_count": 46,
   "id": "21044e84",
   "metadata": {},
   "outputs": [],
   "source": [
    "# To make the first row as a header\n",
    "spark_df=spark.read.option('header','true').csv('nirali_pyspark_test1.csv')"
   ]
  },
  {
   "cell_type": "code",
   "execution_count": 47,
   "id": "cf52cf45",
   "metadata": {},
   "outputs": [
    {
     "name": "stdout",
     "output_type": "stream",
     "text": [
      "+--------+---+\n",
      "|    name|age|\n",
      "+--------+---+\n",
      "|  nirali| 25|\n",
      "|fernando| 19|\n",
      "| shovon | 30|\n",
      "| gautam | 23|\n",
      "|  akshat| 23|\n",
      "+--------+---+\n",
      "\n"
     ]
    }
   ],
   "source": [
    "spark_df.show()"
   ]
  },
  {
   "cell_type": "code",
   "execution_count": 48,
   "id": "9d34a599",
   "metadata": {},
   "outputs": [
    {
     "data": {
      "text/plain": [
       "pyspark.sql.dataframe.DataFrame"
      ]
     },
     "execution_count": 48,
     "metadata": {},
     "output_type": "execute_result"
    }
   ],
   "source": [
    "# The type of df is pyspark\n",
    "type(spark_df)"
   ]
  },
  {
   "cell_type": "code",
   "execution_count": 49,
   "id": "0291d480",
   "metadata": {},
   "outputs": [
    {
     "data": {
      "text/plain": [
       "[Row(name='nirali', age='25'),\n",
       " Row(name='fernando', age='19'),\n",
       " Row(name='shovon ', age='30')]"
      ]
     },
     "execution_count": 49,
     "metadata": {},
     "output_type": "execute_result"
    }
   ],
   "source": [
    "# Showing top 3 records\n",
    "spark_df.head(3)"
   ]
  }
 ],
 "metadata": {
  "kernelspec": {
   "display_name": "Python 3 (ipykernel)",
   "language": "python",
   "name": "python3"
  },
  "language_info": {
   "codemirror_mode": {
    "name": "ipython",
    "version": 3
   },
   "file_extension": ".py",
   "mimetype": "text/x-python",
   "name": "python",
   "nbconvert_exporter": "python",
   "pygments_lexer": "ipython3",
   "version": "3.9.12"
  }
 },
 "nbformat": 4,
 "nbformat_minor": 5
}
